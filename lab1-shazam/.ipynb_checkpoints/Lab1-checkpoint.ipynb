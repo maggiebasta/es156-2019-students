{
 "cells": [
  {
   "cell_type": "markdown",
   "metadata": {},
   "source": [
    "# Imports"
   ]
  },
  {
   "cell_type": "code",
   "execution_count": 1,
   "metadata": {
    "collapsed": true
   },
   "outputs": [],
   "source": [
    "from pydub import AudioSegment\n",
    "import pyaudio\n",
    "import fingerprint \n",
    "import numpy as np\n",
    "import utils\n",
    "import os\n",
    "import sys\n",
    "import warnings\n",
    "import operator"
   ]
  },
  {
   "cell_type": "markdown",
   "metadata": {},
   "source": [
    "# Settings "
   ]
  },
  {
   "cell_type": "markdown",
   "metadata": {},
   "source": [
    "Do not change these!"
   ]
  },
  {
   "cell_type": "code",
   "execution_count": 2,
   "metadata": {
    "collapsed": true
   },
   "outputs": [],
   "source": [
    "FORMAT = pyaudio.paInt16\n",
    "CHANNELS = 2\n",
    "SAMPLERATE = 44100\n",
    "CHUNKSIZE = 8192\n",
    "\n",
    "path = os.getcwd()\n",
    "warnings.filterwarnings(\"ignore\", message=\"divide by zero encountered in log10\")\n",
    "warnings.filterwarnings(\"ignore\", category=DeprecationWarning)"
   ]
  },
  {
   "cell_type": "markdown",
   "metadata": {},
   "source": [
    "# Make database of raw data from Songs"
   ]
  },
  {
   "cell_type": "code",
   "execution_count": 3,
   "metadata": {},
   "outputs": [
    {
     "ename": "IOError",
     "evalue": "[Errno 2] No such file or directory: '/Users/mabasta/es156-2019/lab1-shazam/mp3s/.DS_Store'",
     "output_type": "error",
     "traceback": [
      "\u001b[0;31m---------------------------------------------------------------------------\u001b[0m",
      "\u001b[0;31mIOError\u001b[0m                                   Traceback (most recent call last)",
      "\u001b[0;32m<ipython-input-3-42e640251cca>\u001b[0m in \u001b[0;36m<module>\u001b[0;34m()\u001b[0m\n\u001b[1;32m      1\u001b[0m \u001b[0mSongDb\u001b[0m \u001b[0;34m=\u001b[0m \u001b[0;34m{\u001b[0m\u001b[0;34m}\u001b[0m\u001b[0;34m\u001b[0m\u001b[0m\n\u001b[1;32m      2\u001b[0m \u001b[0;32mfor\u001b[0m \u001b[0mfilename\u001b[0m \u001b[0;32min\u001b[0m \u001b[0mos\u001b[0m\u001b[0;34m.\u001b[0m\u001b[0mlistdir\u001b[0m\u001b[0;34m(\u001b[0m\u001b[0mpath\u001b[0m\u001b[0;34m)\u001b[0m\u001b[0;34m:\u001b[0m\u001b[0;34m\u001b[0m\u001b[0m\n\u001b[0;32m----> 3\u001b[0;31m     \u001b[0maudiofile\u001b[0m \u001b[0;34m=\u001b[0m \u001b[0mAudioSegment\u001b[0m\u001b[0;34m.\u001b[0m\u001b[0mfrom_file\u001b[0m\u001b[0;34m(\u001b[0m\u001b[0mpath\u001b[0m \u001b[0;34m+\u001b[0m \u001b[0;34m\"/mp3s/\"\u001b[0m \u001b[0;34m+\u001b[0m \u001b[0mfilename\u001b[0m\u001b[0;34m)\u001b[0m\u001b[0;34m\u001b[0m\u001b[0m\n\u001b[0m\u001b[1;32m      4\u001b[0m     \u001b[0mdata\u001b[0m \u001b[0;34m=\u001b[0m \u001b[0mnp\u001b[0m\u001b[0;34m.\u001b[0m\u001b[0mfromstring\u001b[0m\u001b[0;34m(\u001b[0m\u001b[0maudiofile\u001b[0m\u001b[0;34m.\u001b[0m\u001b[0m_data\u001b[0m\u001b[0;34m,\u001b[0m \u001b[0mnp\u001b[0m\u001b[0;34m.\u001b[0m\u001b[0mint16\u001b[0m\u001b[0;34m)\u001b[0m\u001b[0;34m\u001b[0m\u001b[0m\n\u001b[1;32m      5\u001b[0m     \u001b[0mchannels\u001b[0m \u001b[0;34m=\u001b[0m \u001b[0;34m[\u001b[0m\u001b[0;34m]\u001b[0m\u001b[0;34m\u001b[0m\u001b[0m\n",
      "\u001b[0;32m/anaconda/lib/python2.7/site-packages/pydub/audio_segment.pyc\u001b[0m in \u001b[0;36mfrom_file\u001b[0;34m(cls, file, format, codec, parameters, **kwargs)\u001b[0m\n\u001b[1;32m    608\u001b[0m         \u001b[0;32mexcept\u001b[0m \u001b[0mTypeError\u001b[0m\u001b[0;34m:\u001b[0m\u001b[0;34m\u001b[0m\u001b[0m\n\u001b[1;32m    609\u001b[0m             \u001b[0mfilename\u001b[0m \u001b[0;34m=\u001b[0m \u001b[0mNone\u001b[0m\u001b[0;34m\u001b[0m\u001b[0m\n\u001b[0;32m--> 610\u001b[0;31m         \u001b[0mfile\u001b[0m \u001b[0;34m=\u001b[0m \u001b[0m_fd_or_path_or_tempfile\u001b[0m\u001b[0;34m(\u001b[0m\u001b[0mfile\u001b[0m\u001b[0;34m,\u001b[0m \u001b[0;34m'rb'\u001b[0m\u001b[0;34m,\u001b[0m \u001b[0mtempfile\u001b[0m\u001b[0;34m=\u001b[0m\u001b[0mFalse\u001b[0m\u001b[0;34m)\u001b[0m\u001b[0;34m\u001b[0m\u001b[0m\n\u001b[0m\u001b[1;32m    611\u001b[0m \u001b[0;34m\u001b[0m\u001b[0m\n\u001b[1;32m    612\u001b[0m         \u001b[0;32mif\u001b[0m \u001b[0mformat\u001b[0m\u001b[0;34m:\u001b[0m\u001b[0;34m\u001b[0m\u001b[0m\n",
      "\u001b[0;32m/anaconda/lib/python2.7/site-packages/pydub/utils.pyc\u001b[0m in \u001b[0;36m_fd_or_path_or_tempfile\u001b[0;34m(fd, mode, tempfile)\u001b[0m\n\u001b[1;32m     55\u001b[0m \u001b[0;34m\u001b[0m\u001b[0m\n\u001b[1;32m     56\u001b[0m     \u001b[0;32mif\u001b[0m \u001b[0misinstance\u001b[0m\u001b[0;34m(\u001b[0m\u001b[0mfd\u001b[0m\u001b[0;34m,\u001b[0m \u001b[0mbasestring\u001b[0m\u001b[0;34m)\u001b[0m\u001b[0;34m:\u001b[0m\u001b[0;34m\u001b[0m\u001b[0m\n\u001b[0;32m---> 57\u001b[0;31m         \u001b[0mfd\u001b[0m \u001b[0;34m=\u001b[0m \u001b[0mopen\u001b[0m\u001b[0;34m(\u001b[0m\u001b[0mfd\u001b[0m\u001b[0;34m,\u001b[0m \u001b[0mmode\u001b[0m\u001b[0;34m=\u001b[0m\u001b[0mmode\u001b[0m\u001b[0;34m)\u001b[0m\u001b[0;34m\u001b[0m\u001b[0m\n\u001b[0m\u001b[1;32m     58\u001b[0m \u001b[0;34m\u001b[0m\u001b[0m\n\u001b[1;32m     59\u001b[0m     \u001b[0;32mtry\u001b[0m\u001b[0;34m:\u001b[0m\u001b[0;34m\u001b[0m\u001b[0m\n",
      "\u001b[0;31mIOError\u001b[0m: [Errno 2] No such file or directory: '/Users/mabasta/es156-2019/lab1-shazam/mp3s/.DS_Store'"
     ]
    }
   ],
   "source": [
    "SongDb = {}\n",
    "for filename in os.listdir(+ \"/mp3s/\"):\n",
    "    audiofile = AudioSegment.from_file(path + \"/mp3s/\" + filename) \n",
    "    data = np.fromstring(audiofile._data, np.int16)\n",
    "    channels = []\n",
    "    for chn in xrange(audiofile.channels):\n",
    "        channels.append(data[chn::audiofile.channels])\n",
    "    SongDb[filename] = channels\n",
    "    print \"Added to database: \" + str(filename)"
   ]
  },
  {
   "cell_type": "markdown",
   "metadata": {},
   "source": [
    "# TODO: Implement your fingerprinting function!"
   ]
  },
  {
   "cell_type": "code",
   "execution_count": 35,
   "metadata": {
    "collapsed": true
   },
   "outputs": [],
   "source": [
    "# right now this utilizes essentially the same fingerprinting scheme as https://github.com/worldveil/dejavu\n",
    "def getFingerprints(data):\n",
    "    return fingerprint.fingerprint(data, plots=False)"
   ]
  },
  {
   "cell_type": "code",
   "execution_count": 36,
   "metadata": {},
   "outputs": [
    {
     "name": "stdout",
     "output_type": "stream",
     "text": [
      "Fingerprinting channel 1/2 for Adele - Rolling in the deep.mp3\n",
      "Finished channel 1/2 for Adele - Rolling in the deep.mp3\n",
      "Fingerprinting channel 2/2 for Adele - Rolling in the deep.mp3\n",
      "Finished channel 2/2 for Adele - Rolling in the deep.mp3\n",
      "Fingerprinting channel 1/2 for Lady Gaga - Poker face.mp3\n",
      "Finished channel 1/2 for Lady Gaga - Poker face.mp3\n",
      "Fingerprinting channel 2/2 for Lady Gaga - Poker face.mp3\n",
      "Finished channel 2/2 for Lady Gaga - Poker face.mp3\n",
      "\n",
      "Fingerprinting finished!\n"
     ]
    }
   ],
   "source": [
    "HashDb = {}\n",
    "for name, channels in SongDb.items(): \n",
    "    result = set()\n",
    "    channel_amount = len(channels)\n",
    "    for channeln, channel in enumerate(channels):\n",
    "        print(\"Fingerprinting channel %d/%d for %s\" % (channeln + 1,\n",
    "                                                       channel_amount,\n",
    "                                                       name))\n",
    "        hashes = getFingerprints(channel)\n",
    "        print(\"Finished channel %d/%d for %s\" % (channeln + 1, channel_amount,\n",
    "                                                 name))\n",
    "        result |= set(hashes)\n",
    "        for tup in result:\n",
    "            sid, diff = tup\n",
    "            if HashDb.get(sid, None):\n",
    "                HashDb[sid].append(name)\n",
    "            else:\n",
    "                HashDb[sid] = [name]\n",
    "print \"\\n\" + \"Fingerprinting finished!\""
   ]
  },
  {
   "cell_type": "markdown",
   "metadata": {},
   "source": [
    "# Match from a recording!"
   ]
  },
  {
   "cell_type": "code",
   "execution_count": 56,
   "metadata": {},
   "outputs": [
    {
     "name": "stdout",
     "output_type": "stream",
     "text": [
      "748c104e8593a543a8539d9bac94add409ee1f49\n",
      "b212c7ad463cc19db06346d5e33ad88ab8261b85\n",
      "e35e6bb5f3b4cf8e9620dcbd9f17900c5752f183\n",
      "No match found\n"
     ]
    }
   ],
   "source": [
    "Matches = {}\n",
    "for song in SongDb.keys():\n",
    "    Matches[song] = 0\n",
    "\n",
    "print \"Listeining...\"\n",
    "data = utils.getRecording(5)\n",
    "result = set()\n",
    "for d in data:\n",
    "    hashes = fingerprint.fingerprint(d)\n",
    "    result |= set(hashes)\n",
    "    \n",
    "    \n",
    "for tup in result:\n",
    "    sid, diff = tup\n",
    "    print sid\n",
    "    songs = HashDb.get(sid, None)\n",
    "    if songs:\n",
    "        for song in songs:\n",
    "            Matches[song] += 1\n",
    "            \n",
    "match = max(Matches.iteritems(), key=operator.itemgetter(1))[0] \n",
    "if Matches[match]:\n",
    "    print \"Match found: \" + str(match)[:-4]\n",
    "else:\n",
    "    print \"No match found\""
   ]
  },
  {
   "cell_type": "markdown",
   "metadata": {},
   "source": [
    "# Match from a file!"
   ]
  },
  {
   "cell_type": "code",
   "execution_count": 64,
   "metadata": {},
   "outputs": [
    {
     "name": "stdout",
     "output_type": "stream",
     "text": [
      "Testing: Rolling in the Deep.mp3\n",
      "{'Adele - Rolling in the deep.mp3': 1018, 'Lady Gaga - Poker face.mp3': 208}\n",
      "Testing: Yesterday The Beatles Original 1965.mp3\n",
      "{'Adele - Rolling in the deep.mp3': 1018, 'Lady Gaga - Poker face.mp3': 208}\n"
     ]
    }
   ],
   "source": [
    "test_path = os.getcwd() + \"/tests\"\n",
    "for filename in os.listdir(test_path):\n",
    "    Matches = {}\n",
    "    for song in SongDb.keys():\n",
    "        Matches[song] = 0\n",
    "    \n",
    "    print \"Testing: \" + str(filename)\n",
    "    audiofile = AudioSegment.from_file(test_path + \"/\" + filename) \n",
    "    \n",
    "    # Take max first 10 seconds of recording\n",
    "    data = np.fromstring(audiofile._data, np.int16)[:SAMPLERATE*30]\n",
    "    channels = []\n",
    "    for chn in xrange(audiofile.channels):\n",
    "        channels.append(data[chn::audiofile.channels])\n",
    "    for channeln, channel in enumerate(channels):\n",
    "        hashes = getFingerprints(channel)\n",
    "        result |= set(hashes)\n",
    "        for tup in result:\n",
    "            sid, diff = tup\n",
    "            songs = HashDb.get(sid, None)\n",
    "            if songs:\n",
    "                for song in songs:\n",
    "                    Matches[song] += 1\n",
    "    match = max(Matches.iteritems(), key=operator.itemgetter(1))[0] \n",
    "    if Matches[match]:\n",
    "        print \"Match found: \" + str(match)[:-4] + \"\\n\"\n",
    "    else:\n",
    "        print \"No match found \\n\""
   ]
  },
  {
   "cell_type": "code",
   "execution_count": null,
   "metadata": {
    "collapsed": true
   },
   "outputs": [],
   "source": []
  },
  {
   "cell_type": "code",
   "execution_count": null,
   "metadata": {
    "collapsed": true
   },
   "outputs": [],
   "source": []
  },
  {
   "cell_type": "code",
   "execution_count": null,
   "metadata": {
    "collapsed": true
   },
   "outputs": [],
   "source": []
  }
 ],
 "metadata": {
  "kernelspec": {
   "display_name": "Python 2",
   "language": "python",
   "name": "python2"
  },
  "language_info": {
   "codemirror_mode": {
    "name": "ipython",
    "version": 2
   },
   "file_extension": ".py",
   "mimetype": "text/x-python",
   "name": "python",
   "nbconvert_exporter": "python",
   "pygments_lexer": "ipython2",
   "version": "2.7.13"
  }
 },
 "nbformat": 4,
 "nbformat_minor": 2
}
